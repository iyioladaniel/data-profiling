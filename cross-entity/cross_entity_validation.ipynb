{
 "cells": [
  {
   "cell_type": "code",
   "execution_count": 2,
   "metadata": {},
   "outputs": [],
   "source": [
    "import pandas as pd\n",
    "from typing import Dict, List\n",
    "import logging"
   ]
  },
  {
   "cell_type": "code",
   "execution_count": 3,
   "metadata": {},
   "outputs": [],
   "source": [
    "def setup_logging():\n",
    "    \"\"\"Configure logging for the script.\"\"\"\n",
    "    logging.basicConfig(\n",
    "        level=logging.INFO,\n",
    "        format='%(asctime)s - %(levelname)s - %(message)s'\n",
    "    )"
   ]
  },
  {
   "cell_type": "code",
   "execution_count": 4,
   "metadata": {},
   "outputs": [],
   "source": [
    "\"\"\"Main execution function.\"\"\"\n",
    "setup_logging()\n",
    "    \n",
    "# Configuration\n",
    "file_paths = {\n",
    "    \"asset-management\": \"./dummy-data/asset_custdata.csv\",\n",
    "    \"trustees-digital\": \"./dummy-data/digital_trustees_custdata.csv\",\n",
    "    \"trustees-traditional\": \"./dummy-data/traditional_trustees_custdata.csv\",\n",
    "    #\"insurance\": \"./dummy-data/individual_insurance_custdata.csv\",\n",
    "    \"registrars\": \"./dummy-data/registrars_shold.csv\",\n",
    "    \"securities\" : \"./dummy-data/securities_custdata.csv\"\n",
    "}\n",
    "\n",
    "columns_mapping = {\n",
    "    \"asset-management\": {\"id\": \"CustAID\", \"bvn\": \"CustomerBVN\"},\n",
    "    \"trustees-digital\": {\"id\": \"platformuserid\", \"bvn\": \"Bvn\"},\n",
    "    \"trustees-traditional\": {\"id\": \"CustAID\", \"bvn\": \"CustomerBVN\"},\n",
    "    #\"insurance\": {\"id\": \"Customer ID\", \"bvn\": \"userBVN\"},\n",
    "    \"registrars\": {\"id\": \"Acctno\", \"bvn\": \"bvn\"},\n",
    "    \"securities\": {\"id\": \"CustAID\", \"bvn\": \"CustomerBVN\"}\n",
    "}"
   ]
  },
  {
   "cell_type": "code",
   "execution_count": 5,
   "metadata": {},
   "outputs": [
    {
     "name": "stderr",
     "output_type": "stream",
     "text": [
      "2025-02-12 15:45:43,818 - INFO - Starting BVN duplicate analysis\n"
     ]
    }
   ],
   "source": [
    "logging.info(\"Starting BVN duplicate analysis\")\n",
    "\n",
    "bvn_records: List[pd.DataFrame] = []\n",
    "missing_bvn_records: List[pd.DataFrame] = []"
   ]
  },
  {
   "cell_type": "code",
   "execution_count": 6,
   "metadata": {},
   "outputs": [
    {
     "name": "stdout",
     "output_type": "stream",
     "text": [
      "[]\n",
      "[]\n"
     ]
    }
   ],
   "source": [
    "print(bvn_records)\n",
    "print(missing_bvn_records)"
   ]
  },
  {
   "cell_type": "code",
   "execution_count": 7,
   "metadata": {},
   "outputs": [
    {
     "name": "stderr",
     "output_type": "stream",
     "text": [
      "2025-02-12 15:45:48,297 - INFO - Processing dataset: asset-management\n",
      "2025-02-12 15:45:48,349 - INFO - Processing dataset: trustees-digital\n",
      "2025-02-12 15:45:48,358 - INFO - Processing dataset: trustees-traditional\n",
      "2025-02-12 15:45:48,366 - INFO - Processing dataset: registrars\n",
      "2025-02-12 15:45:48,379 - INFO - Processing dataset: securities\n"
     ]
    }
   ],
   "source": [
    "for dataset_name, file_path in file_paths.items():\n",
    "    logging.info(f\"Processing dataset: {dataset_name}\")\n",
    "    \n",
    "    # Read dataset with only required columns\n",
    "    df = pd.read_csv(\n",
    "        file_path,\n",
    "        usecols=[\n",
    "            columns_mapping[dataset_name][\"id\"],\n",
    "            columns_mapping[dataset_name][\"bvn\"]\n",
    "        ]\n",
    "    )\n",
    "    \n",
    "    # Rename columns for consistency\n",
    "    df.rename(columns={\n",
    "        columns_mapping[dataset_name][\"id\"]: \"id\",\n",
    "        columns_mapping[dataset_name][\"bvn\"]: \"BVN\"\n",
    "    }, inplace=True)\n",
    "    \n",
    "    # Add dataset identifier\n",
    "    df[\"dataset\"] = dataset_name\n",
    "    \n",
    "    # Handle missing BVNs\n",
    "    missing_mask = df[\"BVN\"].isna()\n",
    "    if missing_mask.any():\n",
    "        missing_records = df[missing_mask].copy()\n",
    "        missing_records[\"reason\"] = \"Missing BVN\"\n",
    "        missing_bvn_records.append(missing_records)\n",
    "        logging.warning(f\"Found {missing_mask.sum()} missing BVNs in {dataset_name}\")\n",
    "    \n",
    "    # Remove rows with missing BVNs for main analysis\n",
    "    df = df[~missing_mask]\n",
    "    \n",
    "    bvn_records.append(df)"
   ]
  },
  {
   "cell_type": "code",
   "execution_count": 10,
   "metadata": {},
   "outputs": [
    {
     "data": {
      "text/plain": [
       "pandas.core.frame.DataFrame"
      ]
     },
     "execution_count": 10,
     "metadata": {},
     "output_type": "execute_result"
    }
   ],
   "source": [
    "type(bvn_records[1])"
   ]
  },
  {
   "cell_type": "code",
   "execution_count": 8,
   "metadata": {},
   "outputs": [
    {
     "data": {
      "text/html": [
       "<div>\n",
       "<style scoped>\n",
       "    .dataframe tbody tr th:only-of-type {\n",
       "        vertical-align: middle;\n",
       "    }\n",
       "\n",
       "    .dataframe tbody tr th {\n",
       "        vertical-align: top;\n",
       "    }\n",
       "\n",
       "    .dataframe thead th {\n",
       "        text-align: right;\n",
       "    }\n",
       "</style>\n",
       "<table border=\"1\" class=\"dataframe\">\n",
       "  <thead>\n",
       "    <tr style=\"text-align: right;\">\n",
       "      <th></th>\n",
       "      <th>id</th>\n",
       "      <th>BVN</th>\n",
       "      <th>dataset</th>\n",
       "    </tr>\n",
       "  </thead>\n",
       "  <tbody>\n",
       "    <tr>\n",
       "      <th>995</th>\n",
       "      <td>dafbe7d3-7b53-4efd-bc17-aed273dba4c2</td>\n",
       "      <td>98233245278</td>\n",
       "      <td>securities</td>\n",
       "    </tr>\n",
       "    <tr>\n",
       "      <th>996</th>\n",
       "      <td>bb019bdb-294b-4bf9-b385-f522dbe12a19</td>\n",
       "      <td>43017346108</td>\n",
       "      <td>securities</td>\n",
       "    </tr>\n",
       "    <tr>\n",
       "      <th>997</th>\n",
       "      <td>3317f584-69e1-4e25-a927-932c23ae9eb9</td>\n",
       "      <td>82115310834</td>\n",
       "      <td>securities</td>\n",
       "    </tr>\n",
       "    <tr>\n",
       "      <th>998</th>\n",
       "      <td>872b39c8-f15e-4191-830e-b2c6e6d1c2fd</td>\n",
       "      <td>17806845015</td>\n",
       "      <td>securities</td>\n",
       "    </tr>\n",
       "    <tr>\n",
       "      <th>999</th>\n",
       "      <td>ef5832c9-1c94-4111-ac13-9dadf3771cfe</td>\n",
       "      <td>31769696006</td>\n",
       "      <td>securities</td>\n",
       "    </tr>\n",
       "  </tbody>\n",
       "</table>\n",
       "</div>"
      ],
      "text/plain": [
       "                                       id          BVN     dataset\n",
       "995  dafbe7d3-7b53-4efd-bc17-aed273dba4c2  98233245278  securities\n",
       "996  bb019bdb-294b-4bf9-b385-f522dbe12a19  43017346108  securities\n",
       "997  3317f584-69e1-4e25-a927-932c23ae9eb9  82115310834  securities\n",
       "998  872b39c8-f15e-4191-830e-b2c6e6d1c2fd  17806845015  securities\n",
       "999  ef5832c9-1c94-4111-ac13-9dadf3771cfe  31769696006  securities"
      ]
     },
     "execution_count": 8,
     "metadata": {},
     "output_type": "execute_result"
    }
   ],
   "source": [
    "df.tail()"
   ]
  },
  {
   "cell_type": "code",
   "execution_count": 22,
   "metadata": {},
   "outputs": [
    {
     "data": {
      "text/html": [
       "<div>\n",
       "<style scoped>\n",
       "    .dataframe tbody tr th:only-of-type {\n",
       "        vertical-align: middle;\n",
       "    }\n",
       "\n",
       "    .dataframe tbody tr th {\n",
       "        vertical-align: top;\n",
       "    }\n",
       "\n",
       "    .dataframe thead th {\n",
       "        text-align: right;\n",
       "    }\n",
       "</style>\n",
       "<table border=\"1\" class=\"dataframe\">\n",
       "  <thead>\n",
       "    <tr style=\"text-align: right;\">\n",
       "      <th></th>\n",
       "      <th>id</th>\n",
       "      <th>BVN</th>\n",
       "      <th>dataset</th>\n",
       "    </tr>\n",
       "  </thead>\n",
       "  <tbody>\n",
       "    <tr>\n",
       "      <th>4995</th>\n",
       "      <td>dafbe7d3-7b53-4efd-bc17-aed273dba4c2</td>\n",
       "      <td>98233245278</td>\n",
       "      <td>securities</td>\n",
       "    </tr>\n",
       "    <tr>\n",
       "      <th>4996</th>\n",
       "      <td>bb019bdb-294b-4bf9-b385-f522dbe12a19</td>\n",
       "      <td>43017346108</td>\n",
       "      <td>securities</td>\n",
       "    </tr>\n",
       "    <tr>\n",
       "      <th>4997</th>\n",
       "      <td>3317f584-69e1-4e25-a927-932c23ae9eb9</td>\n",
       "      <td>82115310834</td>\n",
       "      <td>securities</td>\n",
       "    </tr>\n",
       "    <tr>\n",
       "      <th>4998</th>\n",
       "      <td>872b39c8-f15e-4191-830e-b2c6e6d1c2fd</td>\n",
       "      <td>17806845015</td>\n",
       "      <td>securities</td>\n",
       "    </tr>\n",
       "    <tr>\n",
       "      <th>4999</th>\n",
       "      <td>ef5832c9-1c94-4111-ac13-9dadf3771cfe</td>\n",
       "      <td>31769696006</td>\n",
       "      <td>securities</td>\n",
       "    </tr>\n",
       "  </tbody>\n",
       "</table>\n",
       "</div>"
      ],
      "text/plain": [
       "                                        id          BVN     dataset\n",
       "4995  dafbe7d3-7b53-4efd-bc17-aed273dba4c2  98233245278  securities\n",
       "4996  bb019bdb-294b-4bf9-b385-f522dbe12a19  43017346108  securities\n",
       "4997  3317f584-69e1-4e25-a927-932c23ae9eb9  82115310834  securities\n",
       "4998  872b39c8-f15e-4191-830e-b2c6e6d1c2fd  17806845015  securities\n",
       "4999  ef5832c9-1c94-4111-ac13-9dadf3771cfe  31769696006  securities"
      ]
     },
     "execution_count": 22,
     "metadata": {},
     "output_type": "execute_result"
    }
   ],
   "source": [
    "# Combine all valid records\n",
    "bvn_df = pd.concat(bvn_records, ignore_index=True)\n",
    "bvn_df.tail()"
   ]
  },
  {
   "cell_type": "code",
   "execution_count": 20,
   "metadata": {},
   "outputs": [
    {
     "name": "stderr",
     "output_type": "stream",
     "text": [
      "/tmp/ipykernel_8183/3626388990.py:5: PerformanceWarning: DataFrame is highly fragmented.  This is usually the result of calling `frame.insert` many times, which has poor performance.  Consider joining all columns at once using pd.concat(axis=1) instead. To get a de-fragmented frame, use `newframe = frame.copy()`\n",
      "  bvn_df['serial'] = serial_id\n"
     ]
    }
   ],
   "source": [
    "serial_id = []\n",
    "for i in range(5000):\n",
    "    serial_id.append(i+1)"
   ]
  },
  {
   "cell_type": "code",
   "execution_count": 23,
   "metadata": {},
   "outputs": [],
   "source": [
    "bvn_df['serial'] = serial_id"
   ]
  },
  {
   "cell_type": "code",
   "execution_count": 24,
   "metadata": {},
   "outputs": [
    {
     "data": {
      "text/html": [
       "<div>\n",
       "<style scoped>\n",
       "    .dataframe tbody tr th:only-of-type {\n",
       "        vertical-align: middle;\n",
       "    }\n",
       "\n",
       "    .dataframe tbody tr th {\n",
       "        vertical-align: top;\n",
       "    }\n",
       "\n",
       "    .dataframe thead th {\n",
       "        text-align: right;\n",
       "    }\n",
       "</style>\n",
       "<table border=\"1\" class=\"dataframe\">\n",
       "  <thead>\n",
       "    <tr style=\"text-align: right;\">\n",
       "      <th></th>\n",
       "      <th>id</th>\n",
       "      <th>BVN</th>\n",
       "      <th>dataset</th>\n",
       "      <th>serial</th>\n",
       "    </tr>\n",
       "  </thead>\n",
       "  <tbody>\n",
       "    <tr>\n",
       "      <th>0</th>\n",
       "      <td>bdd640fb-0667-4ad1-9c80-317fa3b1799d</td>\n",
       "      <td>36334337114</td>\n",
       "      <td>asset-management</td>\n",
       "      <td>1</td>\n",
       "    </tr>\n",
       "    <tr>\n",
       "      <th>1</th>\n",
       "      <td>23b8c1e9-3924-46de-beb1-3b9046685257</td>\n",
       "      <td>80347130822</td>\n",
       "      <td>asset-management</td>\n",
       "      <td>2</td>\n",
       "    </tr>\n",
       "    <tr>\n",
       "      <th>2</th>\n",
       "      <td>bd9c66b3-ad3c-4d6d-9a3d-1fa7bc8960a9</td>\n",
       "      <td>89813391321</td>\n",
       "      <td>asset-management</td>\n",
       "      <td>3</td>\n",
       "    </tr>\n",
       "    <tr>\n",
       "      <th>3</th>\n",
       "      <td>972a8469-1641-4f82-8b9d-2434e465e150</td>\n",
       "      <td>97383703538</td>\n",
       "      <td>asset-management</td>\n",
       "      <td>4</td>\n",
       "    </tr>\n",
       "    <tr>\n",
       "      <th>4</th>\n",
       "      <td>17fc695a-07a0-4a6e-8822-e8f36c031199</td>\n",
       "      <td>45229118845</td>\n",
       "      <td>asset-management</td>\n",
       "      <td>5</td>\n",
       "    </tr>\n",
       "  </tbody>\n",
       "</table>\n",
       "</div>"
      ],
      "text/plain": [
       "                                     id          BVN           dataset  serial\n",
       "0  bdd640fb-0667-4ad1-9c80-317fa3b1799d  36334337114  asset-management       1\n",
       "1  23b8c1e9-3924-46de-beb1-3b9046685257  80347130822  asset-management       2\n",
       "2  bd9c66b3-ad3c-4d6d-9a3d-1fa7bc8960a9  89813391321  asset-management       3\n",
       "3  972a8469-1641-4f82-8b9d-2434e465e150  97383703538  asset-management       4\n",
       "4  17fc695a-07a0-4a6e-8822-e8f36c031199  45229118845  asset-management       5"
      ]
     },
     "execution_count": 24,
     "metadata": {},
     "output_type": "execute_result"
    }
   ],
   "source": [
    "bvn_df.head()"
   ]
  },
  {
   "cell_type": "code",
   "execution_count": null,
   "metadata": {},
   "outputs": [],
   "source": [
    "\n",
    "# Process duplicates\n",
    "bvn_df[\"duplicated?\"] = bvn_df[\"BVN\"].duplicated(keep=False)\n",
    "\n",
    "# Find first occurrence of duplicated IDs\n",
    "duplicate_mapping = bvn_df[bvn_df[\"duplicated?\"]].groupby(\"BVN\")[\"id\"].first().to_dict()\n",
    "bvn_df[\"duplicated_id\"] = bvn_df[\"BVN\"].map(lambda x: duplicate_mapping.get(x, \"\"))\n",
    "\n",
    "# Create missing BVNs DataFrame if any were found\n",
    "missing_bvn_df = pd.concat(missing_bvn_records, ignore_index=True) if missing_bvn_records else None\n",
    "\n",
    "# Save results\n",
    "bvn_df.to_csv(\"bvn_comparison.csv\", index=False)\n",
    "logging.info(\"BVN comparison saved to 'bvn_comparison.csv'\")\n",
    "\n",
    "if missing_bvn_df is not None:\n",
    "    missing_bvn_df.to_csv(\"missing_bvns.csv\", index=False)\n",
    "    logging.info(\"Missing BVNs saved to 'missing_bvns.csv'\")"
   ]
  },
  {
   "cell_type": "code",
   "execution_count": null,
   "metadata": {},
   "outputs": [],
   "source": [
    "def analyze_bvn_duplicates(file_paths: Dict[str, str], columns_mapping: Dict[str, Dict[str, str]]) -> tuple:\n",
    "    \"\"\"\n",
    "    Analyze BVN duplicates across multiple datasets.\n",
    "    \n",
    "    Args:\n",
    "        file_paths: Dictionary mapping dataset names to file paths\n",
    "        columns_mapping: Dictionary mapping dataset names to their column mappings\n",
    "        \n",
    "    Returns:\n",
    "        tuple: (DataFrame with BVN analysis, DataFrame with missing BVNs)\n",
    "    \"\"\"\n",
    "    logging.info(\"Starting BVN duplicate analysis\")\n",
    "    \n",
    "    bvn_records: List[pd.DataFrame] = []\n",
    "    missing_bvn_records: List[pd.DataFrame] = []\n",
    "    \n",
    "    # Process each dataset\n",
    "    for dataset_name, file_path in file_paths.items():\n",
    "        try:\n",
    "            logging.info(f\"Processing dataset: {dataset_name}\")\n",
    "            \n",
    "            # Read dataset with only required columns\n",
    "            df = pd.read_csv(\n",
    "                file_path,\n",
    "                usecols=[\n",
    "                    columns_mapping[dataset_name][\"id\"],\n",
    "                    columns_mapping[dataset_name][\"bvn\"]\n",
    "                ]\n",
    "            )\n",
    "            \n",
    "            # Rename columns for consistency\n",
    "            df.rename(columns={\n",
    "                columns_mapping[dataset_name][\"id\"]: \"id\",\n",
    "                columns_mapping[dataset_name][\"bvn\"]: \"BVN\"\n",
    "            }, inplace=True)\n",
    "            \n",
    "            # Add dataset identifier\n",
    "            df[\"dataset\"] = dataset_name\n",
    "            \n",
    "            # Handle missing BVNs\n",
    "            missing_mask = df[\"BVN\"].isna()\n",
    "            if missing_mask.any():\n",
    "                missing_records = df[missing_mask].copy()\n",
    "                missing_records[\"reason\"] = \"Missing BVN\"\n",
    "                missing_bvn_records.append(missing_records)\n",
    "                logging.warning(f\"Found {missing_mask.sum()} missing BVNs in {dataset_name}\")\n",
    "            \n",
    "            # Remove rows with missing BVNs for main analysis\n",
    "            df = df[~missing_mask]\n",
    "            \n",
    "            bvn_records.append(df)\n",
    "            \n",
    "        except FileNotFoundError:\n",
    "            logging.error(f\"File not found: {file_path}\")\n",
    "            continue\n",
    "        except Exception as e:\n",
    "            logging.error(f\"Error processing {dataset_name}: {str(e)}\")\n",
    "            continue\n",
    "    \n",
    "    if not bvn_records:\n",
    "        raise ValueError(\"No valid data found in any dataset\")\n",
    "    \n",
    "    # Combine all valid records\n",
    "    bvn_df = pd.concat(bvn_records, ignore_index=True)\n",
    "    \n",
    "    # Process duplicates\n",
    "    bvn_df[\"duplicated?\"] = bvn_df[\"BVN\"].duplicated(keep=False)\n",
    "    \n",
    "    # Find first occurrence of duplicated IDs\n",
    "    duplicate_mapping = bvn_df[bvn_df[\"duplicated?\"]].groupby(\"BVN\")[\"id\"].first().to_dict()\n",
    "    bvn_df[\"duplicated_id\"] = bvn_df[\"BVN\"].map(lambda x: duplicate_mapping.get(x, \"\"))\n",
    "    \n",
    "    # Create missing BVNs DataFrame if any were found\n",
    "    missing_bvn_df = pd.concat(missing_bvn_records, ignore_index=True) if missing_bvn_records else None\n",
    "    \n",
    "    return bvn_df, missing_bvn_df"
   ]
  },
  {
   "cell_type": "code",
   "execution_count": null,
   "metadata": {},
   "outputs": [],
   "source": [
    "def main():\n",
    "    "
   ]
  },
  {
   "cell_type": "code",
   "execution_count": null,
   "metadata": {},
   "outputs": [],
   "source": [
    "if __name__ == \"__main__\":\n",
    "    main()"
   ]
  },
  {
   "cell_type": "code",
   "execution_count": null,
   "metadata": {},
   "outputs": [],
   "source": []
  }
 ],
 "metadata": {
  "kernelspec": {
   "display_name": "data-profiling",
   "language": "python",
   "name": "python3"
  },
  "language_info": {
   "codemirror_mode": {
    "name": "ipython",
    "version": 3
   },
   "file_extension": ".py",
   "mimetype": "text/x-python",
   "name": "python",
   "nbconvert_exporter": "python",
   "pygments_lexer": "ipython3",
   "version": "3.9.21"
  }
 },
 "nbformat": 4,
 "nbformat_minor": 2
}
