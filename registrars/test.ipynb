{
 "cells": [
  {
   "cell_type": "code",
   "execution_count": 15,
   "metadata": {},
   "outputs": [],
   "source": [
    "import string\n",
    "import random\n",
    "from faker import Faker"
   ]
  },
  {
   "cell_type": "code",
   "execution_count": 9,
   "metadata": {},
   "outputs": [],
   "source": [
    "hold_type = [i for i in string.ascii_uppercase]"
   ]
  },
  {
   "cell_type": "code",
   "execution_count": 16,
   "metadata": {},
   "outputs": [],
   "source": [
    "fake = Faker()"
   ]
  },
  {
   "cell_type": "code",
   "execution_count": 20,
   "metadata": {},
   "outputs": [],
   "source": [
    "categories = [\"INDIVIDUAL\",\"BANK\",\"CORPORATE BODY\",\"DECEASED\",\"RELIGIOUS BODIES\",\"FEDERAL GOVERNMENT\",\"STATE GOVERNMENT\",\"AMCON\",\"INSURANCE\",\"MUTUAL FUNDS\",\"DIRECTORS\",\"LOCAL GOVERNMENT\",\"FEDERAL INSTITUTIONS\",\"NOMINEES\",\"COOPERATIVES\",\"PENSION FUND\",\"PEP\",\"INSTITUTIONAL\",\"REGISTRARS\",\"STAFF\",\"STOCKBROKING FIRMS\",\"SCHOOLS / INSTITUTIONS\",\"JOINT HOLDERS\",\"HNI\",\"FUND MANAGER\",\"FOREIGN INVESTORS\"]"
   ]
  },
  {
   "cell_type": "code",
   "execution_count": null,
   "metadata": {},
   "outputs": [],
   "source": [
    "def generate_shareholder_type_data(count):\n",
    "    \"\"\"\n",
    "    Generate a DataFrame of shareholder categories\n",
    "    \n",
    "    Args:\n",
    "        count (int): Number of customer records to generate\n",
    "        \n",
    "    Returns:\n",
    "        pandas.DataFrame: DataFrame containing shareholder categories\n",
    "    \"\"\"\n",
    "    fake = Faker()\n",
    "    \n",
    "    # Initialize empty lists for each column\n",
    "    data = {\n",
    "        'hold_type': hold_type,\n",
    "        'description': categories\n",
    "    }\n",
    "    # Create DataFrame\n",
    "    df = pd.DataFrame(data)\n",
    "    \n",
    "    return df"
   ]
  },
  {
   "cell_type": "code",
   "execution_count": null,
   "metadata": {},
   "outputs": [],
   "source": [
    "string.ascii_uppercase.split(\"\")"
   ]
  }
 ],
 "metadata": {
  "kernelspec": {
   "display_name": "data-profiling",
   "language": "python",
   "name": "python3"
  },
  "language_info": {
   "codemirror_mode": {
    "name": "ipython",
    "version": 3
   },
   "file_extension": ".py",
   "mimetype": "text/x-python",
   "name": "python",
   "nbconvert_exporter": "python",
   "pygments_lexer": "ipython3",
   "version": "3.9.21"
  }
 },
 "nbformat": 4,
 "nbformat_minor": 2
}
